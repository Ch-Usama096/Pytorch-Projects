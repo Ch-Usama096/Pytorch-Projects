{
  "nbformat": 4,
  "nbformat_minor": 0,
  "metadata": {
    "colab": {
      "provenance": []
    },
    "kernelspec": {
      "name": "python3",
      "display_name": "Python 3"
    },
    "language_info": {
      "name": "python"
    }
  },
  "cells": [
    {
      "cell_type": "markdown",
      "source": [
        "**Modules**"
      ],
      "metadata": {
        "id": "k4oKWSr-0ueG"
      }
    },
    {
      "cell_type": "code",
      "execution_count": null,
      "metadata": {
        "id": "xUqNszo80nn0"
      },
      "outputs": [],
      "source": [
        "import torch"
      ]
    },
    {
      "cell_type": "code",
      "source": [
        "torch.__version__"
      ],
      "metadata": {
        "colab": {
          "base_uri": "https://localhost:8080/",
          "height": 35
        },
        "id": "LZ6IOzMs0tBw",
        "outputId": "aeec68f6-13a5-4cb4-ed49-1c3a3a276eb1"
      },
      "execution_count": null,
      "outputs": [
        {
          "output_type": "execute_result",
          "data": {
            "text/plain": [
              "'2.0.0+cu118'"
            ],
            "application/vnd.google.colaboratory.intrinsic+json": {
              "type": "string"
            }
          },
          "metadata": {},
          "execution_count": 2
        }
      ]
    },
    {
      "cell_type": "markdown",
      "source": [
        "**Create the Tensors with Pytorch**\n",
        "\n",
        "1)Scaler Tensor\n",
        "\n",
        "2) Vector Tensor\n",
        "\n",
        "3) Matrix Tensor\n",
        "\n",
        "4) Tesnor \n",
        "\n",
        "5) Random Data"
      ],
      "metadata": {
        "id": "8ehnZB832DG8"
      }
    },
    {
      "cell_type": "markdown",
      "source": [
        "# Creating the Scaler Tensor\n"
      ],
      "metadata": {
        "id": "blJlKUb619Bc"
      }
    },
    {
      "cell_type": "code",
      "source": [
        "# Create the Scaler Tensor\n",
        "scaler = torch.tensor(7)\n",
        "print(f\"The Result of the Scaler is : {scaler}\")"
      ],
      "metadata": {
        "colab": {
          "base_uri": "https://localhost:8080/"
        },
        "id": "HQNDOGGm2ev-",
        "outputId": "083d771d-815f-438a-adac-476e86c029a2"
      },
      "execution_count": null,
      "outputs": [
        {
          "output_type": "stream",
          "name": "stdout",
          "text": [
            "The Result of the Scaler is : 7\n"
          ]
        }
      ]
    },
    {
      "cell_type": "code",
      "source": [
        "# Display the Dimension of the Scaler Tensor\n",
        "scaler.ndim"
      ],
      "metadata": {
        "colab": {
          "base_uri": "https://localhost:8080/"
        },
        "id": "A7cbob0H1oz5",
        "outputId": "59895a60-5530-4ef8-9cc8-61f5ff6e8b91"
      },
      "execution_count": null,
      "outputs": [
        {
          "output_type": "execute_result",
          "data": {
            "text/plain": [
              "0"
            ]
          },
          "metadata": {},
          "execution_count": 6
        }
      ]
    },
    {
      "cell_type": "code",
      "source": [
        "# Display the Shape of the Scaler Tensor\n",
        "scaler.shape"
      ],
      "metadata": {
        "colab": {
          "base_uri": "https://localhost:8080/"
        },
        "id": "z4Dj19Ki2peD",
        "outputId": "0da4f3a3-b7fa-42c8-8dc2-2797943f5c66"
      },
      "execution_count": null,
      "outputs": [
        {
          "output_type": "execute_result",
          "data": {
            "text/plain": [
              "torch.Size([])"
            ]
          },
          "metadata": {},
          "execution_count": 7
        }
      ]
    },
    {
      "cell_type": "code",
      "source": [
        "# Display the Data of the Tensor with (tensor.item())\n",
        "scaler.item()"
      ],
      "metadata": {
        "colab": {
          "base_uri": "https://localhost:8080/"
        },
        "id": "5nBSQe1o2s3j",
        "outputId": "6e9c085c-74d4-41ac-e3c9-13054817ab30"
      },
      "execution_count": null,
      "outputs": [
        {
          "output_type": "execute_result",
          "data": {
            "text/plain": [
              "7"
            ]
          },
          "metadata": {},
          "execution_count": 8
        }
      ]
    },
    {
      "cell_type": "markdown",
      "source": [
        "# Creating the Vector Tensor"
      ],
      "metadata": {
        "id": "mbRBNcs82zhb"
      }
    },
    {
      "cell_type": "code",
      "source": [
        "# Create the Vector Tensor\n",
        "vector = torch.tensor([1,4,5] , dtype = torch.int16)\n",
        "print(f\"The Result of the Vector is : {vector}\")"
      ],
      "metadata": {
        "colab": {
          "base_uri": "https://localhost:8080/"
        },
        "id": "qilabxNF3HL4",
        "outputId": "38cbc8a7-e2f5-42b0-c570-1056fbe80daf"
      },
      "execution_count": null,
      "outputs": [
        {
          "output_type": "stream",
          "name": "stdout",
          "text": [
            "The Result of the Vector is : tensor([1, 4, 5], dtype=torch.int16)\n"
          ]
        }
      ]
    },
    {
      "cell_type": "code",
      "source": [
        "# Display the Dimension of the Vector\n",
        "vector.ndim"
      ],
      "metadata": {
        "colab": {
          "base_uri": "https://localhost:8080/"
        },
        "id": "zkdDComM3aa7",
        "outputId": "d0f97d77-3173-4750-8445-72ba4504f858"
      },
      "execution_count": null,
      "outputs": [
        {
          "output_type": "execute_result",
          "data": {
            "text/plain": [
              "1"
            ]
          },
          "metadata": {},
          "execution_count": 10
        }
      ]
    },
    {
      "cell_type": "code",
      "source": [
        "# Display the Shape of the Tensor\n",
        "vector.shape"
      ],
      "metadata": {
        "colab": {
          "base_uri": "https://localhost:8080/"
        },
        "id": "PrRKRSWJ3fwJ",
        "outputId": "d89ed0a2-36a1-44a6-dfdf-5420546b7202"
      },
      "execution_count": null,
      "outputs": [
        {
          "output_type": "execute_result",
          "data": {
            "text/plain": [
              "torch.Size([3])"
            ]
          },
          "metadata": {},
          "execution_count": 11
        }
      ]
    },
    {
      "cell_type": "code",
      "source": [
        "# Display the Data of the Vector by using Indexing\n",
        "print(vector[0].item())"
      ],
      "metadata": {
        "colab": {
          "base_uri": "https://localhost:8080/"
        },
        "id": "_pxoSiDD3jD7",
        "outputId": "d4277cd4-3328-4392-9547-691a5c3073c4"
      },
      "execution_count": null,
      "outputs": [
        {
          "output_type": "stream",
          "name": "stdout",
          "text": [
            "1\n"
          ]
        }
      ]
    },
    {
      "cell_type": "markdown",
      "source": [
        "# Creating the Maxtix Tensor"
      ],
      "metadata": {
        "id": "aL8GFyux3ogs"
      }
    },
    {
      "cell_type": "code",
      "source": [
        "# Create the Matrix\n",
        "MATRIX = torch.tensor([[2,3],\n",
        "                       [9,0]] , dtype = torch.int64)\n",
        "print(f\"The Result of the MATRIX is : \\n {MATRIX}\")"
      ],
      "metadata": {
        "colab": {
          "base_uri": "https://localhost:8080/"
        },
        "id": "DnHC7XE-31Nj",
        "outputId": "9cd9f8e9-efe7-46dd-9ad0-b9933e0840ba"
      },
      "execution_count": null,
      "outputs": [
        {
          "output_type": "stream",
          "name": "stdout",
          "text": [
            "The Result of the MATRIX is : \n",
            " tensor([[2, 3],\n",
            "        [9, 0]])\n"
          ]
        }
      ]
    },
    {
      "cell_type": "code",
      "source": [
        "# Display the Dimensin of the Tensor\n",
        "MATRIX.ndim"
      ],
      "metadata": {
        "colab": {
          "base_uri": "https://localhost:8080/"
        },
        "id": "Ai0p3C1j4RVl",
        "outputId": "ef5059c7-2e7e-42c0-b146-3f01b35ab6b9"
      },
      "execution_count": null,
      "outputs": [
        {
          "output_type": "execute_result",
          "data": {
            "text/plain": [
              "2"
            ]
          },
          "metadata": {},
          "execution_count": 19
        }
      ]
    },
    {
      "cell_type": "code",
      "source": [
        "# Display the Shape of the Tensor\n",
        "MATRIX.shape"
      ],
      "metadata": {
        "colab": {
          "base_uri": "https://localhost:8080/"
        },
        "id": "4QomhUv74kLH",
        "outputId": "161fa3ee-a435-4104-cd47-c4a5fa98daf5"
      },
      "execution_count": null,
      "outputs": [
        {
          "output_type": "execute_result",
          "data": {
            "text/plain": [
              "torch.Size([2, 2])"
            ]
          },
          "metadata": {},
          "execution_count": 20
        }
      ]
    },
    {
      "cell_type": "code",
      "source": [
        "# Display the Data of the Tensor\n",
        "MATRIX[0][1].item()"
      ],
      "metadata": {
        "colab": {
          "base_uri": "https://localhost:8080/"
        },
        "id": "YDxrnAae4q-L",
        "outputId": "b56feff7-4c1a-4e4e-b31d-b5f5b799a460"
      },
      "execution_count": null,
      "outputs": [
        {
          "output_type": "execute_result",
          "data": {
            "text/plain": [
              "3"
            ]
          },
          "metadata": {},
          "execution_count": 22
        }
      ]
    },
    {
      "cell_type": "markdown",
      "source": [
        "# Creating the Tensor"
      ],
      "metadata": {
        "id": "dAtTQYZV4vrD"
      }
    },
    {
      "cell_type": "code",
      "source": [
        "# Create the Tensor\n",
        "TENSOR = torch.tensor([[[1,2],\n",
        "                        [90,100]],\n",
        "                       \n",
        "                       [[3,4],\n",
        "                        [1,2]]])\n",
        "print(f\"The Result of the TESNOR is : \\n {TENSOR}\")"
      ],
      "metadata": {
        "id": "Vado5hCf42Kk"
      },
      "execution_count": null,
      "outputs": []
    },
    {
      "cell_type": "code",
      "source": [
        "# Display the Dimension of the Tensor\n",
        "TENSOR.ndim"
      ],
      "metadata": {
        "colab": {
          "base_uri": "https://localhost:8080/"
        },
        "id": "ZqxRh3SF5KA1",
        "outputId": "fe19ae4a-fe4a-4029-99cc-e2092fc3941a"
      },
      "execution_count": null,
      "outputs": [
        {
          "output_type": "execute_result",
          "data": {
            "text/plain": [
              "3"
            ]
          },
          "metadata": {},
          "execution_count": 26
        }
      ]
    },
    {
      "cell_type": "code",
      "source": [
        "# Display the Shape of the Tensor\n",
        "TENSOR.shape"
      ],
      "metadata": {
        "colab": {
          "base_uri": "https://localhost:8080/"
        },
        "id": "Yudr0NYG5ZO8",
        "outputId": "5a946d49-6725-43c5-8b48-27f4f82cd3dd"
      },
      "execution_count": null,
      "outputs": [
        {
          "output_type": "execute_result",
          "data": {
            "text/plain": [
              "torch.Size([2, 2, 2])"
            ]
          },
          "metadata": {},
          "execution_count": 27
        }
      ]
    },
    {
      "cell_type": "code",
      "source": [
        "# Display the Data of the Tensor\n",
        "TENSOR[0][1][1].item()"
      ],
      "metadata": {
        "colab": {
          "base_uri": "https://localhost:8080/"
        },
        "id": "BhzapGbP5dia",
        "outputId": "dcbe7070-59ec-4bbd-8122-337ce138147a"
      },
      "execution_count": null,
      "outputs": [
        {
          "output_type": "execute_result",
          "data": {
            "text/plain": [
              "100"
            ]
          },
          "metadata": {},
          "execution_count": 30
        }
      ]
    },
    {
      "cell_type": "markdown",
      "source": [
        "# Creating the Tesnor with Randomly\n"
      ],
      "metadata": {
        "id": "fZoV_TFL5kus"
      }
    },
    {
      "cell_type": "code",
      "source": [
        "# Create the MATRIX with rand Method\n",
        "MATRIX = torch.rand(size = (3,5))\n",
        "\n",
        "print(f\"The Reult of the MATRIX is : \\n {MATRIX}\")\n",
        "print(f\"Dimension of the MATRIX is : {MATRIX.ndim}\")\n",
        "print(f\"Shape of the MATRIX is : {MATRIX.shape}\")\n",
        "print(f\"Data Type of the Matrix is : {MATRIX.dtype}\")"
      ],
      "metadata": {
        "id": "HofHzDSG503R"
      },
      "execution_count": null,
      "outputs": []
    },
    {
      "cell_type": "code",
      "source": [
        "# Create the MATRIX with arange Method\n",
        "MATRIX = torch.arange(start = 11 , end = 100 , step = 10).reshape(3,3)\n",
        "\n",
        "print(f\"The Reult of the MATRIX is : \\n {MATRIX}\")\n",
        "print(f\"Dimension of the MATRIX is : {MATRIX.ndim}\")\n",
        "print(f\"Shape of the MATRIX is : {MATRIX.shape}\")\n",
        "print(f\"Data Type of the Matrix is : {MATRIX.dtype}\")"
      ],
      "metadata": {
        "id": "anIxiiIH6b5F"
      },
      "execution_count": null,
      "outputs": []
    },
    {
      "cell_type": "code",
      "source": [
        "# Create the MATRIX with zeros Method\n",
        "MATRIX = torch.zeros(3,3)\n",
        "\n",
        "print(f\"The Reult of the MATRIX is : \\n {MATRIX}\")\n",
        "print(f\"Dimension of the MATRIX is : {MATRIX.ndim}\")\n",
        "print(f\"Shape of the MATRIX is : {MATRIX.shape}\")\n",
        "print(f\"Data Type of the Matrix is : {MATRIX.dtype}\")"
      ],
      "metadata": {
        "id": "FJN2nURX7IlU"
      },
      "execution_count": null,
      "outputs": []
    },
    {
      "cell_type": "code",
      "source": [
        "# Create the MATRIX with ones Method\n",
        "MATRIX = torch.ones(3,3)\n",
        "\n",
        "print(f\"The Reult of the MATRIX is : \\n {MATRIX}\")\n",
        "print(f\"Dimension of the MATRIX is : {MATRIX.ndim}\")\n",
        "print(f\"Shape of the MATRIX is : {MATRIX.shape}\")\n",
        "print(f\"Data Type of the Matrix is : {MATRIX.dtype}\")"
      ],
      "metadata": {
        "id": "jJ-46S9q7dCf"
      },
      "execution_count": null,
      "outputs": []
    },
    {
      "cell_type": "code",
      "source": [],
      "metadata": {
        "id": "71SKfsP07g_t"
      },
      "execution_count": null,
      "outputs": []
    }
  ]
}