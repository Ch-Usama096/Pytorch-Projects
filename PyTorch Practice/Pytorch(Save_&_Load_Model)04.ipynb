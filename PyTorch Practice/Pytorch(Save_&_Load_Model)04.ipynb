{
  "nbformat": 4,
  "nbformat_minor": 0,
  "metadata": {
    "colab": {
      "provenance": []
    },
    "kernelspec": {
      "name": "python3",
      "display_name": "Python 3"
    },
    "language_info": {
      "name": "python"
    }
  },
  "cells": [
    {
      "cell_type": "markdown",
      "source": [
        "**Modules**"
      ],
      "metadata": {
        "id": "Elsh0cLnfMT-"
      }
    },
    {
      "cell_type": "code",
      "execution_count": null,
      "metadata": {
        "id": "C9lbZ3pAfC0N"
      },
      "outputs": [],
      "source": [
        "import torch\n",
        "from torch import nn\n",
        "import matplotlib.pyplot as plt\n",
        "from sklearn.model_selection import train_test_split\n",
        "from pathlib import Path"
      ]
    },
    {
      "cell_type": "markdown",
      "source": [
        "**Create Linear Regression Model by using Equation**"
      ],
      "metadata": {
        "id": "AveEc0uCfaNR"
      }
    },
    {
      "cell_type": "code",
      "source": [
        "# Define/Intialize the Weights & Bias\n",
        "Weights = 0.7\n",
        "Bias    = 0.3\n",
        "\n",
        "# Create the X Dataset\n",
        "X = torch.arange(start = 0, end = 1, step = 0.02).unsqueeze(dim = 1)\n",
        "\n",
        "# Create the Y Dataset with Linear Regression\n",
        "Y = Bias + Weights * X"
      ],
      "metadata": {
        "id": "5xeLZmh0fPfb"
      },
      "execution_count": null,
      "outputs": []
    },
    {
      "cell_type": "code",
      "source": [
        "# Split the Dataset into Training and Testing\n",
        "x_train , x_test , y_train , y_test = train_test_split(X , Y , test_size = 0.10 , random_state = 42)\n",
        "\n",
        "# Display the Lenght of the Training/Testing Data\n",
        "print(f\"The Lenght of the X Train is : {len(x_train)}\")\n",
        "print(f\"The Lenght of the Y Train is : {len(y_train)}\")\n",
        "print(f\"The Lenght of the X Test  is : {len(x_test)}\")\n",
        "print(f\"The Lenght of the Y Test  is : {len(y_test)}\")"
      ],
      "metadata": {
        "colab": {
          "base_uri": "https://localhost:8080/"
        },
        "id": "ACQx3eoHfQ1Q",
        "outputId": "dd87b7cf-bccf-41dd-a91b-02ac8f0641c3"
      },
      "execution_count": null,
      "outputs": [
        {
          "output_type": "stream",
          "name": "stdout",
          "text": [
            "The Lenght of the X Train is : 45\n",
            "The Lenght of the Y Train is : 45\n",
            "The Lenght of the X Test  is : 5\n",
            "The Lenght of the Y Test  is : 5\n"
          ]
        }
      ]
    },
    {
      "cell_type": "code",
      "source": [
        "# Define the Function that Visualization the Result\n",
        "def plot_data(xtrain = x_train , ytrain = y_train , xtest = x_test , ytest = y_test , prediction = None):\n",
        "  # Display the Training Data\n",
        "  plt.scatter(xtrain , ytrain , c = \"b\" , s = 4 , label = \"Training Dataset\")\n",
        "  # Display the Testing Data\n",
        "  plt.scatter(xtest  , ytest  , c = \"g\" , s = 4 , label = \"Testing Dataset\")\n",
        "  # Display the Prediction Data\n",
        "  if prediction is not None:\n",
        "    plt.scatter(xtest , prediction , c = \"r\" , s = 4 , label = \"Prediction Dataset\")\n",
        "  \n",
        "  plt.legend(prop = {\"size\" : 8})"
      ],
      "metadata": {
        "id": "gi8R0LijfS1S"
      },
      "execution_count": null,
      "outputs": []
    },
    {
      "cell_type": "code",
      "source": [
        "# Visualization the Training and Testing Dataset\n",
        "plot_data()"
      ],
      "metadata": {
        "colab": {
          "base_uri": "https://localhost:8080/",
          "height": 430
        },
        "id": "aOQku09LfU2E",
        "outputId": "d8d63580-20c4-47e3-fcf0-75d2c3aefe09"
      },
      "execution_count": null,
      "outputs": [
        {
          "output_type": "display_data",
          "data": {
            "text/plain": [
              "<Figure size 640x480 with 1 Axes>"
            ],
            "image/png": "[encoded data removed]"
          },
          "metadata": {}
        }
      ]
    },
    {
      "cell_type": "markdown",
      "source": [
        "**Create the Linear Regression Model with Pytorch Module V1**"
      ],
      "metadata": {
        "id": "HwW54_E9fpSy"
      }
    },
    {
      "cell_type": "code",
      "source": [
        "# Create the Class of the Linear Regression Model\n",
        "class LinearRegressionModel(nn.Module):\n",
        "  def __init__(self):\n",
        "    super().__init__()\n",
        "\n",
        "    # Define/Instialization the Weights and Bias\n",
        "    self.Weights = nn.Parameter(torch.randn(1,\n",
        "                                           requires_grad = True,\n",
        "                                           dtype = torch.float))\n",
        "    self.Bias    = nn.Parameter(torch.randn(1,\n",
        "                                            requires_grad = True,\n",
        "                                            dtype = torch.float))\n",
        "    \n",
        "  # Define the Forward Propagation\n",
        "  def forward(self , x: torch.Tensor):\n",
        "    # Define the Linear Regression Equation\n",
        "    return self.Bias + self.Weights * x"
      ],
      "metadata": {
        "id": "KV7a3X_KfXGV"
      },
      "execution_count": null,
      "outputs": []
    },
    {
      "cell_type": "code",
      "source": [
        "# Set the Manual Seed\n",
        "torch.manual_seed(42)\n",
        "\n",
        "# Create the Object of the LinearRegressionModel\n",
        "model_0 = LinearRegressionModel()\n",
        "\n",
        "# Display the Parameters of the Linear Regression Model\n",
        "print(list(model_0.parameters()) , end = \"\\n\\n\")\n",
        "\n",
        "# Display the Parameters of the Linear Regression Model in Dictionary format\n",
        "print(model_0.state_dict())"
      ],
      "metadata": {
        "colab": {
          "base_uri": "https://localhost:8080/"
        },
        "id": "XIKUAE61fdRO",
        "outputId": "f645ed58-5ab9-41f0-e2be-afaa5f868589"
      },
      "execution_count": null,
      "outputs": [
        {
          "output_type": "stream",
          "name": "stdout",
          "text": [
            "[Parameter containing:\n",
            "tensor([0.3367], requires_grad=True), Parameter containing:\n",
            "tensor([0.1288], requires_grad=True)]\n",
            "\n",
            "OrderedDict([('Weights', tensor([0.3367])), ('Bias', tensor([0.1288]))])\n"
          ]
        }
      ]
    },
    {
      "cell_type": "code",
      "source": [
        "# Predict the Result with Linear Regression Model\n",
        "model_0.eval()\n",
        "\n",
        "with torch.inference_mode():\n",
        "  y_pred = model_0(x_test)"
      ],
      "metadata": {
        "id": "W9NS-ErMfe8-"
      },
      "execution_count": null,
      "outputs": []
    },
    {
      "cell_type": "code",
      "source": [
        "# Visualization the Training & Testing & Predicted Data\n",
        "plot_data(prediction = y_pred)                            # This Model Version not perform Well"
      ],
      "metadata": {
        "colab": {
          "base_uri": "https://localhost:8080/",
          "height": 430
        },
        "id": "8xateyp8fheU",
        "outputId": "7516b48a-41c6-471d-abb7-efb72297fd29"
      },
      "execution_count": null,
      "outputs": [
        {
          "output_type": "display_data",
          "data": {
            "text/plain": [
              "<Figure size 640x480 with 1 Axes>"
            ],
            "image/png": "[encoded data removed]"
          },
          "metadata": {}
        }
      ]
    },
    {
      "cell_type": "markdown",
      "source": [
        "**Create the Linear Regression Model with Pytorch Module V2**"
      ],
      "metadata": {
        "id": "Y2fLx5IWfumi"
      }
    },
    {
      "cell_type": "code",
      "source": [
        "# Create the Class of the Linear Regression Model\n",
        "class LinearRegressionModel(nn.Module):\n",
        "  def __init__(self):\n",
        "    super().__init__()\n",
        "\n",
        "    # Define/Instialization the Weights and Bias\n",
        "    self.Weights = nn.Parameter(torch.randn(1,\n",
        "                                           requires_grad = True,\n",
        "                                           dtype = torch.float))\n",
        "    self.Bias    = nn.Parameter(torch.randn(1,\n",
        "                                            requires_grad = True,\n",
        "                                            dtype = torch.float))\n",
        "    \n",
        "  # Define the Forward Propagation\n",
        "  def forward(self , x: torch.Tensor):\n",
        "    # Define the Linear Regression Equation\n",
        "    return self.Bias + self.Weights * x"
      ],
      "metadata": {
        "id": "axNjSoiOfjuy"
      },
      "execution_count": null,
      "outputs": []
    },
    {
      "cell_type": "code",
      "source": [
        "# Set the Manual Seed\n",
        "torch.manual_seed(42)\n",
        "\n",
        "# Create the Object of the LinearRegressionModel\n",
        "model_1 = LinearRegressionModel()\n",
        "\n",
        "# Display the Parameters of the Linear Regression Model\n",
        "print(list(model_1.parameters()) , end = \"\\n\\n\")\n",
        "\n",
        "# Display the Parameters of the Linear Regression Model in Dictionary format\n",
        "print(model_1.state_dict())"
      ],
      "metadata": {
        "colab": {
          "base_uri": "https://localhost:8080/"
        },
        "id": "CQakQ50cfwx7",
        "outputId": "bcb25573-37ce-4f6e-f31d-fb614164ea20"
      },
      "execution_count": null,
      "outputs": [
        {
          "output_type": "stream",
          "name": "stdout",
          "text": [
            "[Parameter containing:\n",
            "tensor([0.3367], requires_grad=True), Parameter containing:\n",
            "tensor([0.1288], requires_grad=True)]\n",
            "\n",
            "OrderedDict([('Weights', tensor([0.3367])), ('Bias', tensor([0.1288]))])\n"
          ]
        }
      ]
    },
    {
      "cell_type": "code",
      "source": [
        "# Setup the Loss Function\n",
        "loss = nn.L1Loss()\n",
        "\n",
        "# Setup the Optimizer Function\n",
        "optimizer = torch.optim.SGD(params = model_1.parameters() , lr = 0.01)"
      ],
      "metadata": {
        "id": "aZlhn9bVfyT3"
      },
      "execution_count": null,
      "outputs": []
    },
    {
      "cell_type": "code",
      "source": [
        "# Training and Testing Loop\n",
        "epochs = 200\n",
        "for epoch in range(epochs+1):\n",
        "\n",
        "  # 1. Train the Model\n",
        "  model_1.train()\n",
        "\n",
        "  # 2. Predict the Result\n",
        "  trainPredict = model_1(x_train)\n",
        "\n",
        "  # 3. Calculate the Loss of Training Prediction Data\n",
        "  lossTrain = loss(trainPredict , y_train)\n",
        "\n",
        "  # 4. Optimizer zero_grad\n",
        "  optimizer.zero_grad()\n",
        "\n",
        "  # 5. Perform the Backward Propagation\n",
        "  lossTrain.backward()\n",
        "\n",
        "  # 6. Apply the Optimizer\n",
        "  optimizer.step()\n",
        "\n",
        "  model_1.eval() # of the all calculation that not usefull to evaluate the Model/Predict the Result\n",
        "  with torch.inference_mode():\n",
        "    # Predict the Result\n",
        "    testPredict = model_1(x_test)\n",
        "\n",
        "    # Calculate the Loss of Testing Prediction Data\n",
        "    lossTest = loss(testPredict , y_test)\n",
        "\n",
        "    if epoch % 10 == 0:\n",
        "      print(f\"Epochs : {epoch} | Train Loss : {lossTrain} | Test Loss : {lossTest}\")"
      ],
      "metadata": {
        "colab": {
          "base_uri": "https://localhost:8080/"
        },
        "id": "ZKofY85pf06i",
        "outputId": "63304718-6f29-4f9c-d2e0-f2e27b023193"
      },
      "execution_count": null,
      "outputs": [
        {
          "output_type": "stream",
          "name": "stdout",
          "text": [
            "Epochs : 0 | Train Loss : 0.34574073553085327 | Test Loss : 0.3676895499229431\n",
            "Epochs : 10 | Train Loss : 0.22265800833702087 | Test Loss : 0.24001598358154297\n",
            "Epochs : 20 | Train Loss : 0.1057056114077568 | Test Loss : 0.11731840670108795\n",
            "Epochs : 30 | Train Loss : 0.061234284192323685 | Test Loss : 0.058344293385744095\n",
            "Epochs : 40 | Train Loss : 0.04850568249821663 | Test Loss : 0.04557226970791817\n",
            "Epochs : 50 | Train Loss : 0.0429481565952301 | Test Loss : 0.03891906887292862\n",
            "Epochs : 60 | Train Loss : 0.03789947181940079 | Test Loss : 0.03425252437591553\n",
            "Epochs : 70 | Train Loss : 0.03286665305495262 | Test Loss : 0.02958596870303154\n",
            "Epochs : 80 | Train Loss : 0.027829546481370926 | Test Loss : 0.02508598566055298\n",
            "Epochs : 90 | Train Loss : 0.02279672585427761 | Test Loss : 0.020419394597411156\n",
            "Epochs : 100 | Train Loss : 0.017763907089829445 | Test Loss : 0.015752840787172318\n",
            "Epochs : 110 | Train Loss : 0.012728365138173103 | Test Loss : 0.01108628511428833\n",
            "Epochs : 120 | Train Loss : 0.00769397895783186 | Test Loss : 0.006586277391761541\n",
            "Epochs : 130 | Train Loss : 0.0026737498119473457 | Test Loss : 0.0017962455749511719\n",
            "Epochs : 140 | Train Loss : 0.008946729823946953 | Test Loss : 0.0030295432079583406\n",
            "Epochs : 150 | Train Loss : 0.008946729823946953 | Test Loss : 0.0030295432079583406\n",
            "Epochs : 160 | Train Loss : 0.008946729823946953 | Test Loss : 0.0030295432079583406\n",
            "Epochs : 170 | Train Loss : 0.008946729823946953 | Test Loss : 0.0030295432079583406\n",
            "Epochs : 180 | Train Loss : 0.008946729823946953 | Test Loss : 0.0030295432079583406\n",
            "Epochs : 190 | Train Loss : 0.008946729823946953 | Test Loss : 0.0030295432079583406\n",
            "Epochs : 200 | Train Loss : 0.008946729823946953 | Test Loss : 0.0030295432079583406\n"
          ]
        }
      ]
    },
    {
      "cell_type": "code",
      "source": [
        "# Predict the Result with Linear Regression Model\n",
        "model_1.eval()\n",
        "\n",
        "with torch.inference_mode():\n",
        "  y_pred = model_1(x_test)"
      ],
      "metadata": {
        "id": "tWIvoSNNf3Z_"
      },
      "execution_count": null,
      "outputs": []
    },
    {
      "cell_type": "code",
      "source": [
        "# Display the Parameters of the Model Linear Regression\n",
        "print(list(model_1.parameters()))\n",
        "print(model_1.state_dict())"
      ],
      "metadata": {
        "colab": {
          "base_uri": "https://localhost:8080/"
        },
        "id": "8mUP-1TCixJ7",
        "outputId": "23ffdd1e-8f25-49af-ea5f-f91c896c6aee"
      },
      "execution_count": null,
      "outputs": [
        {
          "output_type": "stream",
          "name": "stdout",
          "text": [
            "[Parameter containing:\n",
            "tensor([0.6965], requires_grad=True), Parameter containing:\n",
            "tensor([0.3050], requires_grad=True)]\n",
            "OrderedDict([('Weights', tensor([0.6965])), ('Bias', tensor([0.3050]))])\n"
          ]
        }
      ]
    },
    {
      "cell_type": "code",
      "source": [
        "# Visualization the Training & Testing & Predicted Data\n",
        "plot_data(prediction = y_pred)                   "
      ],
      "metadata": {
        "colab": {
          "base_uri": "https://localhost:8080/",
          "height": 430
        },
        "id": "xm0grrd_f6Sa",
        "outputId": "10dee23b-7f54-4c86-ef2b-7b669049d142"
      },
      "execution_count": null,
      "outputs": [
        {
          "output_type": "display_data",
          "data": {
            "text/plain": [
              "<Figure size 640x480 with 1 Axes>"
            ],
            "image/png": "[encoded data removed]"
          },
          "metadata": {}
        }
      ]
    },
    {
      "cell_type": "markdown",
      "source": [
        "**Save and Load the Pytorch Model**"
      ],
      "metadata": {
        "id": "gYe8nftagC4H"
      }
    },
    {
      "cell_type": "code",
      "source": [
        "# Create the Model PATH\n",
        "MODEL_PATH = Path(\"Pytorch_model\")\n",
        "MODEL_PATH.mkdir(parents = True , exist_ok = True)\n",
        "\n",
        "# Create Model Save PATH\n",
        "MODEL_NAME = \"pytorch_linear_regression_model.pth\"\n",
        "MODEL_SAVE_PATH = MODEL_PATH / MODEL_NAME\n",
        "\n",
        "# Save the Model (model.state_dict())\n",
        "print(f\"Svaing Model to : {MODEL_SAVE_PATH}\")\n",
        "torch.save(obj = model_1.state_dict() ,  f = MODEL_SAVE_PATH)"
      ],
      "metadata": {
        "colab": {
          "base_uri": "https://localhost:8080/"
        },
        "id": "UUXyrRT_f9nf",
        "outputId": "1442f1e5-02c0-40a4-9b50-53e24ad0868e"
      },
      "execution_count": null,
      "outputs": [
        {
          "output_type": "stream",
          "name": "stdout",
          "text": [
            "Svaing Model to : Pytorch_model/pytorch_linear_regression_model.pth\n"
          ]
        }
      ]
    },
    {
      "cell_type": "code",
      "source": [
        "# Create the new Object of Linear Regression Model\n",
        "model_2 = LinearRegressionModel()\n",
        "\n",
        "# Load the Linear Regression Model\n",
        "model_2.load_state_dict(torch.load(f = MODEL_SAVE_PATH))"
      ],
      "metadata": {
        "colab": {
          "base_uri": "https://localhost:8080/"
        },
        "id": "W09YQm4ZhLhe",
        "outputId": "2aed1603-8a7a-4cd4-ba77-fa581697ef74"
      },
      "execution_count": null,
      "outputs": [
        {
          "output_type": "execute_result",
          "data": {
            "text/plain": [
              "<All keys matched successfully>"
            ]
          },
          "metadata": {},
          "execution_count": 22
        }
      ]
    },
    {
      "cell_type": "code",
      "source": [
        "# Display the Parameters of the Load Model\n",
        "print(list(model_2.parameters()) , end = \"\\n\\n\")\n",
        "print(model_2.state_dict())"
      ],
      "metadata": {
        "colab": {
          "base_uri": "https://localhost:8080/"
        },
        "id": "5v0uE83-ifMV",
        "outputId": "57777e5e-62a9-41e5-9caa-7e91e5508640"
      },
      "execution_count": null,
      "outputs": [
        {
          "output_type": "stream",
          "name": "stdout",
          "text": [
            "[Parameter containing:\n",
            "tensor([0.6965], requires_grad=True), Parameter containing:\n",
            "tensor([0.3050], requires_grad=True)]\n",
            "\n",
            "OrderedDict([('Weights', tensor([0.6965])), ('Bias', tensor([0.3050]))])\n"
          ]
        }
      ]
    },
    {
      "cell_type": "markdown",
      "source": [
        "**Predict the Results with Load Model**"
      ],
      "metadata": {
        "id": "86bXqpLKiU-v"
      }
    },
    {
      "cell_type": "code",
      "source": [
        "# Predict the Result with Linear Regression Model\n",
        "model_2.eval()\n",
        "\n",
        "with torch.inference_mode():\n",
        "  y_pred = model_2(x_test)"
      ],
      "metadata": {
        "id": "bYlqDVMliRbu"
      },
      "execution_count": null,
      "outputs": []
    },
    {
      "cell_type": "code",
      "source": [
        "# Visualization the Training & Testing & Predicted Data\n",
        "plot_data(prediction = y_pred)                   "
      ],
      "metadata": {
        "colab": {
          "base_uri": "https://localhost:8080/",
          "height": 430
        },
        "id": "hbZhfkTVibJz",
        "outputId": "a41620c9-bd23-45bc-97e0-cd9ddefdd154"
      },
      "execution_count": null,
      "outputs": [
        {
          "output_type": "display_data",
          "data": {
            "text/plain": [
              "<Figure size 640x480 with 1 Axes>"
            ],
            "image/png": "[encoded data removed]"
          },
          "metadata": {}
        }
      ]
    }
  ]
}