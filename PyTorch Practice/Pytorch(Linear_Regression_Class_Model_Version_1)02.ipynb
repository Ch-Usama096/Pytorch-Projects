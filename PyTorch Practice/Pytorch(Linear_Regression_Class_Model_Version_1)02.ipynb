{
  "nbformat": 4,
  "nbformat_minor": 0,
  "metadata": {
    "colab": {
      "provenance": []
    },
    "kernelspec": {
      "name": "python3",
      "display_name": "Python 3"
    },
    "language_info": {
      "name": "python"
    }
  },
  "cells": [
    {
      "cell_type": "markdown",
      "source": [
        "**Modules**"
      ],
      "metadata": {
        "id": "Jex4BnnFX1uQ"
      }
    },
    {
      "cell_type": "code",
      "execution_count": null,
      "metadata": {
        "id": "mW658OXoXpSs"
      },
      "outputs": [],
      "source": [
        "import torch\n",
        "from torch import nn\n",
        "import matplotlib.pyplot as plt\n",
        "from sklearn.model_selection import train_test_split"
      ]
    },
    {
      "cell_type": "markdown",
      "source": [
        "**Create Linear Regression Model by using Equation**"
      ],
      "metadata": {
        "id": "c7ZttVocX607"
      }
    },
    {
      "cell_type": "code",
      "source": [
        "# Define/Intialize the Weights & Bias\n",
        "Weights = 0.7\n",
        "Bias    = 0.3\n",
        "\n",
        "# Create the X Dataset\n",
        "X = torch.arange(start = 0, end = 1, step = 0.02).unsqueeze(dim = 1)\n",
        "\n",
        "# Create the Y Dataset with Linear Regression\n",
        "Y = Bias + Weights * X"
      ],
      "metadata": {
        "id": "l9LX6VDVX1Ow"
      },
      "execution_count": null,
      "outputs": []
    },
    {
      "cell_type": "code",
      "source": [
        "# Split the Dataset into Training and Testing\n",
        "x_train , x_test , y_train , y_test = train_test_split(X , Y , test_size = 0.10 , random_state = 42)\n",
        "\n",
        "# Display the Lenght of the Training/Testing Data\n",
        "print(f\"The Lenght of the X Train is : {len(x_train)}\")\n",
        "print(f\"The Lenght of the Y Train is : {len(y_train)}\")\n",
        "print(f\"The Lenght of the X Test  is : {len(x_test)}\")\n",
        "print(f\"The Lenght of the Y Test  is : {len(y_test)}\")"
      ],
      "metadata": {
        "colab": {
          "base_uri": "https://localhost:8080/"
        },
        "id": "ClgqYX2WYAgz",
        "outputId": "aeee0d5e-2209-4348-d063-0f76a27523f8"
      },
      "execution_count": null,
      "outputs": [
        {
          "output_type": "stream",
          "name": "stdout",
          "text": [
            "The Lenght of the X Train is : 45\n",
            "The Lenght of the Y Train is : 45\n",
            "The Lenght of the X Test  is : 5\n",
            "The Lenght of the Y Test  is : 5\n"
          ]
        }
      ]
    },
    {
      "cell_type": "code",
      "source": [
        "# Define the Function that Visualization the Result\n",
        "def plot_data(xtrain = x_train , ytrain = y_train , xtest = x_test , ytest = y_test , prediction = None):\n",
        "  # Display the Training Data\n",
        "  plt.scatter(xtrain , ytrain , c = \"b\" , s = 4 , label = \"Training Dataset\")\n",
        "  # Display the Testing Data\n",
        "  plt.scatter(xtest  , ytest  , c = \"g\" , s = 4 , label = \"Testing Dataset\")\n",
        "  # Display the Prediction Data\n",
        "  if prediction is not None:\n",
        "    plt.scatter(xtest , prediction , c = \"r\" , s = 4 , label = \"Prediction Dataset\")\n",
        "  \n",
        "  plt.legend(prop = {\"size\" : 8})"
      ],
      "metadata": {
        "id": "aNUzm8wFYCdI"
      },
      "execution_count": null,
      "outputs": []
    },
    {
      "cell_type": "code",
      "source": [
        "# Visualization the Training and Testing Dataset\n",
        "plot_data()"
      ],
      "metadata": {
        "colab": {
          "base_uri": "https://localhost:8080/",
          "height": 430
        },
        "id": "9Wc4jqmNYEdX",
        "outputId": "936c306d-f9d1-4c41-82dc-d3578fc06a61"
      },
      "execution_count": null,
      "outputs": [
        {
          "output_type": "display_data",
          "data": {
            "text/plain": [
              "<Figure size 640x480 with 1 Axes>"
            ],
            "image/png": "[encoded data removed]"
          },
          "metadata": {}
        }
      ]
    },
    {
      "cell_type": "markdown",
      "source": [
        "**Create the Linear Regression Model with Pytorch Module V1**"
      ],
      "metadata": {
        "id": "GeuFCMmBYHx8"
      }
    },
    {
      "cell_type": "code",
      "source": [
        "# Create the Class of the Linear Regression Model\n",
        "class LinearRegressionModel(nn.Module):\n",
        "  def __init__(self):\n",
        "    super().__init__()\n",
        "\n",
        "    # Define/Instialization the Weights and Bias\n",
        "    self.Weights = nn.Parameter(torch.randn(1,\n",
        "                                           requires_grad = True,\n",
        "                                           dtype = torch.float))\n",
        "    self.Bias    = nn.Parameter(torch.randn(1,\n",
        "                                            requires_grad = True,\n",
        "                                            dtype = torch.float))\n",
        "    \n",
        "  # Define the Forward Propagation\n",
        "  def forward(self , x: torch.Tensor):\n",
        "    # Define the Linear Regression Equation\n",
        "    return self.Bias + self.Weights * x"
      ],
      "metadata": {
        "id": "Uhj_GXCtYGVs"
      },
      "execution_count": null,
      "outputs": []
    },
    {
      "cell_type": "code",
      "source": [
        "# Set the Manual Seed\n",
        "torch.manual_seed(42)\n",
        "\n",
        "# Create the Object of the LinearRegressionModel\n",
        "model_0 = LinearRegressionModel()\n",
        "\n",
        "# Display the Parameters of the Linear Regression Model\n",
        "print(list(model_0.parameters()) , end = \"\\n\\n\")\n",
        "\n",
        "# Display the Parameters of the Linear Regression Model in Dictionary format\n",
        "print(model_0.state_dict())"
      ],
      "metadata": {
        "id": "7XIPg2yXZPbq"
      },
      "execution_count": null,
      "outputs": []
    },
    {
      "cell_type": "code",
      "source": [
        "# Predict the Result with Linear Regression Model\n",
        "model_0.eval()\n",
        "\n",
        "with torch.inference_mode():\n",
        "  y_pred = model_0(x_test)"
      ],
      "metadata": {
        "id": "W2vsQf3sZZBy"
      },
      "execution_count": null,
      "outputs": []
    },
    {
      "cell_type": "code",
      "source": [
        "# Visualization the Training & Testing & Predicted Data\n",
        "plot_data(prediction = y_pred)                            # This Model Version not perform Well"
      ],
      "metadata": {
        "colab": {
          "base_uri": "https://localhost:8080/",
          "height": 430
        },
        "id": "BM5dJuStaBxj",
        "outputId": "a60368b7-24a6-4557-b6c7-ae3aa23e8fc8"
      },
      "execution_count": null,
      "outputs": [
        {
          "output_type": "display_data",
          "data": {
            "text/plain": [
              "<Figure size 640x480 with 1 Axes>"
            ],
            "image/png": "[encoded data removed]"
          },
          "metadata": {}
        }
      ]
    },
    {
      "cell_type": "code",
      "source": [],
      "metadata": {
        "id": "JNGIM9u2aVC1"
      },
      "execution_count": null,
      "outputs": []
    }
  ]
}