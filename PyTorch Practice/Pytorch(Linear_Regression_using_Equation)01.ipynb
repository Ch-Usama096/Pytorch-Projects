{
  "nbformat": 4,
  "nbformat_minor": 0,
  "metadata": {
    "colab": {
      "provenance": []
    },
    "kernelspec": {
      "name": "python3",
      "display_name": "Python 3"
    },
    "language_info": {
      "name": "python"
    }
  },
  "cells": [
    {
      "cell_type": "markdown",
      "source": [
        "**Modules**"
      ],
      "metadata": {
        "id": "ITn-HqKXUGDy"
      }
    },
    {
      "cell_type": "code",
      "execution_count": null,
      "metadata": {
        "id": "Nqza7fCjT0qZ"
      },
      "outputs": [],
      "source": [
        "import torch\n",
        "from torch import nn\n",
        "import matplotlib.pyplot as plt\n",
        "from sklearn.model_selection import train_test_split"
      ]
    },
    {
      "cell_type": "markdown",
      "source": [
        "**Create Linear Regression Model**"
      ],
      "metadata": {
        "id": "AcKEJha6UPnF"
      }
    },
    {
      "cell_type": "code",
      "source": [
        "# Define/Intialize the Weights & Bias\n",
        "Weights = 0.7\n",
        "Bias    = 0.3\n",
        "\n",
        "# Create the X Dataset\n",
        "X = torch.arange(start = 0, end = 1, step = 0.02).unsqueeze(dim = 1)\n",
        "\n",
        "# Create the Y Dataset with Linear Regression\n",
        "Y = Bias + Weights * X"
      ],
      "metadata": {
        "id": "TJ9S-MneUFgx"
      },
      "execution_count": null,
      "outputs": []
    },
    {
      "cell_type": "code",
      "source": [
        "# Split the Dataset into Training and Testing\n",
        "x_train , x_test , y_train , y_test = train_test_split(X , Y , test_size = 0.10 , random_state = 42)\n",
        "\n",
        "# Display the Lenght of the Training/Testing Data\n",
        "print(f\"The Lenght of the X Train is : {len(x_train)}\")\n",
        "print(f\"The Lenght of the Y Train is : {len(y_train)}\")\n",
        "print(f\"The Lenght of the X Test  is : {len(x_test)}\")\n",
        "print(f\"The Lenght of the Y Test  is : {len(y_test)}\")"
      ],
      "metadata": {
        "colab": {
          "base_uri": "https://localhost:8080/"
        },
        "id": "hjqrmrt0UY5Y",
        "outputId": "3fce8d0f-374c-4272-b712-aeee0c54782a"
      },
      "execution_count": null,
      "outputs": [
        {
          "output_type": "stream",
          "name": "stdout",
          "text": [
            "The Lenght of the X Train is : 45\n",
            "The Lenght of the Y Train is : 45\n",
            "The Lenght of the X Test  is : 5\n",
            "The Lenght of the Y Test  is : 5\n"
          ]
        }
      ]
    },
    {
      "cell_type": "code",
      "source": [
        "# Define the Function that Visualization the Result\n",
        "def plot_data(xtrain = x_train , ytrain = y_train , xtest = x_test , ytest = y_test , prediction = None):\n",
        "  # Display the Training Data\n",
        "  plt.scatter(xtrain , ytrain , c = \"b\" , s = 4 , label = \"Training Dataset\")\n",
        "  # Display the Testing Data\n",
        "  plt.scatter(xtest  , ytest  , c = \"g\" , s = 4 , label = \"Testing Dataset\")\n",
        "  # Display the Prediction Data\n",
        "  if prediction is not None:\n",
        "    plt.scatter(xtest , prediction , c = \"r\" , s = 4 , label = \"Prediction Dataset\")\n",
        "  \n",
        "  plt.legend(prop = {\"size\" : 8})"
      ],
      "metadata": {
        "id": "b_lqu_0qUkOg"
      },
      "execution_count": null,
      "outputs": []
    },
    {
      "cell_type": "code",
      "source": [
        "# Visualization the Training and Testing Dataset\n",
        "plot_data()"
      ],
      "metadata": {
        "colab": {
          "base_uri": "https://localhost:8080/",
          "height": 430
        },
        "id": "rEeHdRy5Um8g",
        "outputId": "8a4109f2-4d77-4b39-ce0b-4f6a24d077af"
      },
      "execution_count": null,
      "outputs": [
        {
          "output_type": "display_data",
          "data": {
            "text/plain": [
              "<Figure size 640x480 with 1 Axes>"
            ],
            "image/png": "[encoded data removed]"
          },
          "metadata": {}
        }
      ]
    },
    {
      "cell_type": "code",
      "source": [],
      "metadata": {
        "id": "y5sqoSPpWuFE"
      },
      "execution_count": null,
      "outputs": []
    }
  ]
}