{
  "nbformat": 4,
  "nbformat_minor": 0,
  "metadata": {
    "colab": {
      "provenance": [],
      "gpuType": "T4"
    },
    "kernelspec": {
      "name": "python3",
      "display_name": "Python 3"
    },
    "language_info": {
      "name": "python"
    },
    "accelerator": "GPU",
    "gpuClass": "standard"
  },
  "cells": [
    {
      "cell_type": "markdown",
      "source": [
        "**Modules**"
      ],
      "metadata": {
        "id": "cvdSX5oR1NtS"
      }
    },
    {
      "cell_type": "code",
      "execution_count": null,
      "metadata": {
        "id": "02iuu4ZF0gqR"
      },
      "outputs": [],
      "source": [
        "import torch\n",
        "from torch import nn\n",
        "import matplotlib.pyplot as plt\n",
        "from sklearn.model_selection import train_test_split\n",
        "from pathlib import Path"
      ]
    },
    {
      "cell_type": "markdown",
      "source": [
        "**Create the Dataset with Linear Regression Formula Y = weights * X + Bias**"
      ],
      "metadata": {
        "id": "23_1_9pT1if4"
      }
    },
    {
      "cell_type": "code",
      "source": [
        "# Define\\Initializing the Weights and Bias\n",
        "weights = 0.7\n",
        "Bias    = 0.3\n",
        "\n",
        "# Create the X Dataset\n",
        "X = torch.arange(start = 0, end = 1, step = 0.02).unsqueeze(dim = 1)\n",
        "\n",
        "# Create the Y Dataset\n",
        "Y = Bias + weights * X"
      ],
      "metadata": {
        "id": "ytziL4ad1XyU"
      },
      "execution_count": null,
      "outputs": []
    },
    {
      "cell_type": "markdown",
      "source": [
        "**Splitting the Data into Training & Testing**"
      ],
      "metadata": {
        "id": "u9ew6uzP2IuC"
      }
    },
    {
      "cell_type": "code",
      "source": [
        "# Split the Data into Training and Testing\n",
        "x_train , x_test , y_train , y_test = train_test_split(X , Y , test_size = 0.10 , random_state = 42)\n",
        "\n",
        "# Display the Lenght of the Training/Testing Data\n",
        "print(f\"The Lenght of the X Train is : {len(x_train)}\")\n",
        "print(f\"The Lenght of the Y Train is : {len(y_train)}\")\n",
        "print(f\"The Lenght of the X Test  is : {len(x_test)}\")\n",
        "print(f\"The Lenght of the Y Test  is : {len(y_test)}\")"
      ],
      "metadata": {
        "colab": {
          "base_uri": "https://localhost:8080/"
        },
        "id": "DsvmwmB_2Dx5",
        "outputId": "aa18e9c0-2eaf-49a0-f682-418d313d7979"
      },
      "execution_count": null,
      "outputs": [
        {
          "output_type": "stream",
          "name": "stdout",
          "text": [
            "The Lenght of the X Train is : 45\n",
            "The Lenght of the Y Train is : 45\n",
            "The Lenght of the X Test  is : 5\n",
            "The Lenght of the Y Test  is : 5\n"
          ]
        }
      ]
    },
    {
      "cell_type": "markdown",
      "source": [
        "**Visualization Dataset**"
      ],
      "metadata": {
        "id": "FZI2CUi72WOQ"
      }
    },
    {
      "cell_type": "code",
      "source": [
        "# Define the Function that Visualization the Result\n",
        "def plot_data(xtrain = x_train , ytrain = y_train , xtest = x_test , ytest = y_test , prediction = None):\n",
        "  # Display the Training Data\n",
        "  plt.scatter(xtrain , ytrain , c = \"b\" , s = 4 , label = \"Training Dataset\")\n",
        "  # Display the Testing Data\n",
        "  plt.scatter(xtest  , ytest  , c = \"g\" , s = 4 , label = \"Testing Dataset\")\n",
        "  # Display the Prediction Data\n",
        "  if prediction is not None:\n",
        "    plt.scatter(xtest , prediction , c = \"r\" , s = 4 , label = \"Prediction Dataset\")\n",
        "  \n",
        "  plt.legend(prop = {\"size\" : 8})"
      ],
      "metadata": {
        "id": "p8p50GmX2Tb5"
      },
      "execution_count": null,
      "outputs": []
    },
    {
      "cell_type": "code",
      "source": [
        "# Display the Training & Testing Data\n",
        "plot_data()"
      ],
      "metadata": {
        "id": "ZF2AT2UB2Z44"
      },
      "execution_count": null,
      "outputs": []
    },
    {
      "cell_type": "markdown",
      "source": [
        "**Build Pytorch Linear Model**"
      ],
      "metadata": {
        "id": "EP1UFey02hvu"
      }
    },
    {
      "cell_type": "code",
      "source": [
        "# Create the Linear Regression Model by subclassing (nn.Module)\n",
        "class LinearRegressionModel(nn.Module):\n",
        "  def __init__(self):\n",
        "    super().__init__()\n",
        "\n",
        "    # Create the Linear Model Parameters\n",
        "    self.linear_layer = nn.Linear(in_features = 1,\n",
        "                                  out_features = 1)\n",
        "  \n",
        "  # Create the Forward Propagation Method\n",
        "  def forward(self , x : torch.Tensor):\n",
        "    return self.linear_layer(x)\n",
        "\n",
        "# Set the Manual Seed\n",
        "torch.manual_seed(42)\n",
        "\n",
        "# Create the Object of the Linear Regression Model\n",
        "model = LinearRegressionModel()\n",
        "\n",
        "# Display the Parameters of the Linear Regression Model\n",
        "print(list(model.parameters()) , end = \"\\n\\n\")\n",
        "print(model.state_dict())"
      ],
      "metadata": {
        "colab": {
          "base_uri": "https://localhost:8080/"
        },
        "id": "NTEH89Px2eIT",
        "outputId": "83b3f63e-9b1c-4d97-a251-beab8c9bd5f2"
      },
      "execution_count": null,
      "outputs": [
        {
          "output_type": "stream",
          "name": "stdout",
          "text": [
            "[Parameter containing:\n",
            "tensor([[0.7645]], requires_grad=True), Parameter containing:\n",
            "tensor([0.8300], requires_grad=True)]\n",
            "\n",
            "OrderedDict([('linear_layer.weight', tensor([[0.7645]])), ('linear_layer.bias', tensor([0.8300]))])\n"
          ]
        }
      ]
    },
    {
      "cell_type": "code",
      "source": [
        "# Setup the Loss Function \n",
        "loss = nn.L1Loss()\n",
        "\n",
        "# Setup the Optimizer Function\n",
        "optimizer = torch.optim.SGD(params = model.parameters() , lr = 0.01)"
      ],
      "metadata": {
        "id": "gX5RGQc93G0v"
      },
      "execution_count": null,
      "outputs": []
    },
    {
      "cell_type": "code",
      "source": [
        "# Let's write the Train Loop\n",
        "\n",
        "epochs = 100\n",
        "for epoch in range(epochs+1):\n",
        "  # 1. Train the Model\n",
        "  model.train()\n",
        "  # 2. Predict the Train Data \n",
        "  trainPredict = model(x_train)\n",
        "  # 3. Calculate the Loss of Train Predict Data\n",
        "  calLoss = loss(trainPredict , y_train)\n",
        "  # 4. Optimizer Zero_Grad\n",
        "  optimizer.zero_grad()\n",
        "  # 5. Perform the Backward Propagation\n",
        "  calLoss.backward()\n",
        "  # 6. Apply the Optimizer\n",
        "  optimizer.step()\n",
        "\n",
        "  model.eval() # of the All calculation that's usefull to evaluate the Model/Predict the Result\n",
        "  with torch.inference_mode():\n",
        "    # Predict the Test Data\n",
        "    testPredict = model(x_test)\n",
        "    # Claculate the Loss of Test Predict Data\n",
        "    lossTest = loss(testPredict , y_test)\n",
        "\n",
        "    if epoch % 10 == 0:\n",
        "      print(f\"Epochs : {epoch} | Train Loss : {calLoss} | Test Loss : {lossTest}\")"
      ],
      "metadata": {
        "colab": {
          "base_uri": "https://localhost:8080/"
        },
        "id": "zW5qWgIY39Wa",
        "outputId": "63fe0ec0-4dc0-4af3-d92e-23ebe4f489d9"
      },
      "execution_count": null,
      "outputs": [
        {
          "output_type": "stream",
          "name": "stdout",
          "text": [
            "Epochs : 0 | Train Loss : 0.5487067699432373 | Test Loss : 0.5416474342346191\n",
            "Epochs : 10 | Train Loss : 0.4256243407726288 | Test Loss : 0.41397398710250854\n",
            "Epochs : 20 | Train Loss : 0.3025417625904083 | Test Loss : 0.28630051016807556\n",
            "Epochs : 30 | Train Loss : 0.17945922911167145 | Test Loss : 0.15862712264060974\n",
            "Epochs : 40 | Train Loss : 0.05741007626056671 | Test Loss : 0.03779097646474838\n",
            "Epochs : 50 | Train Loss : 0.0349002368748188 | Test Loss : 0.02938556671142578\n",
            "Epochs : 60 | Train Loss : 0.029533253982663155 | Test Loss : 0.026072239503264427\n",
            "Epochs : 70 | Train Loss : 0.024491867050528526 | Test Loss : 0.021738778799772263\n",
            "Epochs : 80 | Train Loss : 0.01945047825574875 | Test Loss : 0.017405342310667038\n",
            "Epochs : 90 | Train Loss : 0.014417656697332859 | Test Loss : 0.01273877639323473\n",
            "Epochs : 100 | Train Loss : 0.009384834207594395 | Test Loss : 0.008072209544479847\n"
          ]
        }
      ]
    },
    {
      "cell_type": "code",
      "source": [
        "# Display the Parameters of Linear Regression Model\n",
        "print(model.state_dict())"
      ],
      "metadata": {
        "colab": {
          "base_uri": "https://localhost:8080/"
        },
        "id": "pgR70glE4Fcd",
        "outputId": "193255f1-9ed2-4904-e3dc-25862246b965"
      },
      "execution_count": null,
      "outputs": [
        {
          "output_type": "stream",
          "name": "stdout",
          "text": [
            "OrderedDict([('linear_layer.weight', tensor([[0.6650]])), ('linear_layer.bias', tensor([0.3185]))])\n"
          ]
        }
      ]
    },
    {
      "cell_type": "markdown",
      "source": [
        "**Prediction and Evaluation Model**"
      ],
      "metadata": {
        "id": "VrByg_5W67i5"
      }
    },
    {
      "cell_type": "code",
      "source": [
        "# Predict the Result of Linear Regression Model\n",
        "model.eval()\n",
        "with torch.inference_mode():\n",
        "  y_pred = model(x_test)\n",
        "\n",
        "# Display the Predicted Data\n",
        "y_pred"
      ],
      "metadata": {
        "colab": {
          "base_uri": "https://localhost:8080/"
        },
        "id": "PmdQ3Dz_6sgr",
        "outputId": "7346b529-eef3-4958-98ba-29f73f72d449"
      },
      "execution_count": null,
      "outputs": [
        {
          "output_type": "execute_result",
          "data": {
            "text/plain": [
              "tensor([[0.4914],\n",
              "        [0.8371],\n",
              "        [0.7174],\n",
              "        [0.9169],\n",
              "        [0.5445]])"
            ]
          },
          "metadata": {},
          "execution_count": 22
        }
      ]
    },
    {
      "cell_type": "code",
      "source": [
        "# Visualization the Training/Testing and Predicted Data\n",
        "plot_data(prediction = y_pred)"
      ],
      "metadata": {
        "colab": {
          "base_uri": "https://localhost:8080/",
          "height": 430
        },
        "id": "d-pR41xa7VNC",
        "outputId": "5a371074-01f4-4286-c892-52d7a93e48ef"
      },
      "execution_count": null,
      "outputs": [
        {
          "output_type": "display_data",
          "data": {
            "text/plain": [
              "<Figure size 640x480 with 1 Axes>"
            ],
            "image/png": "[encoded data removed]"
          },
          "metadata": {}
        }
      ]
    },
    {
      "cell_type": "markdown",
      "source": [
        "**Saving & Loading the Trained Model**"
      ],
      "metadata": {
        "id": "GKosotJh7m4R"
      }
    },
    {
      "cell_type": "code",
      "source": [
        "# Create the Path pf the Model\n",
        "MODEL_PATH = Path(\"models\")\n",
        "MODEL_PATH.mkdir(parents = True ,  exist_ok = True)\n",
        "\n",
        "# Create the Model Name\n",
        "MODEL_NAME = \"pytorch_linear_regression_model00.pth\"\n",
        "MODEL_SAVE_PATH = MODEL_PATH / MODEL_NAME\n",
        "\n",
        "# Save the Model\n",
        "torch.save(obj = model.state_dict() , f = MODEL_SAVE_PATH)"
      ],
      "metadata": {
        "id": "SVoImfP-7fC7"
      },
      "execution_count": null,
      "outputs": []
    },
    {
      "cell_type": "code",
      "source": [
        "# Create the Object Linear Regression Model\n",
        "model_0 = LinearRegressionModel()\n",
        "\n",
        "# Load the Trained Modek\n",
        "model_0.load_state_dict(torch.load(f = MODEL_SAVE_PATH))"
      ],
      "metadata": {
        "colab": {
          "base_uri": "https://localhost:8080/"
        },
        "id": "6z4TTjEl8Uy_",
        "outputId": "89f07355-b5cc-4de6-c5a6-7f80e1529bf4"
      },
      "execution_count": null,
      "outputs": [
        {
          "output_type": "execute_result",
          "data": {
            "text/plain": [
              "<All keys matched successfully>"
            ]
          },
          "metadata": {},
          "execution_count": 26
        }
      ]
    },
    {
      "cell_type": "code",
      "source": [
        "# Display the Parameters of the Loaded Model\n",
        "print(model_0.state_dict())"
      ],
      "metadata": {
        "colab": {
          "base_uri": "https://localhost:8080/"
        },
        "id": "hGD7tq1B8ta0",
        "outputId": "8e224efe-3e4e-451a-9f7c-a61fe57b4e1f"
      },
      "execution_count": null,
      "outputs": [
        {
          "output_type": "stream",
          "name": "stdout",
          "text": [
            "OrderedDict([('linear_layer.weight', tensor([[0.6650]])), ('linear_layer.bias', tensor([0.3185]))])\n"
          ]
        }
      ]
    },
    {
      "cell_type": "code",
      "source": [],
      "metadata": {
        "id": "A5pfB7zS9D86"
      },
      "execution_count": null,
      "outputs": []
    }
  ]
}