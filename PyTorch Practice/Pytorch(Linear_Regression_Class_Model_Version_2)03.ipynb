{
  "nbformat": 4,
  "nbformat_minor": 0,
  "metadata": {
    "colab": {
      "provenance": []
    },
    "kernelspec": {
      "name": "python3",
      "display_name": "Python 3"
    },
    "language_info": {
      "name": "python"
    }
  },
  "cells": [
    {
      "cell_type": "markdown",
      "source": [
        "**Modules**"
      ],
      "metadata": {
        "id": "eLySelA9aqhI"
      }
    },
    {
      "cell_type": "code",
      "execution_count": null,
      "metadata": {
        "id": "6zhKkX5bajm6"
      },
      "outputs": [],
      "source": [
        "import torch\n",
        "from torch import nn\n",
        "import matplotlib.pyplot as plt\n",
        "from sklearn.model_selection import train_test_split"
      ]
    },
    {
      "cell_type": "markdown",
      "source": [
        "**Create Linear Regression Model by using Equation**"
      ],
      "metadata": {
        "id": "ZP8dInzyazk5"
      }
    },
    {
      "cell_type": "code",
      "source": [
        "# Define/Intialize the Weights & Bias\n",
        "Weights = 0.7\n",
        "Bias    = 0.3\n",
        "\n",
        "# Create the X Dataset\n",
        "X = torch.arange(start = 0, end = 1, step = 0.02).unsqueeze(dim = 1)\n",
        "\n",
        "# Create the Y Dataset with Linear Regression\n",
        "Y = Bias + Weights * X"
      ],
      "metadata": {
        "id": "exn6imhZap4b"
      },
      "execution_count": null,
      "outputs": []
    },
    {
      "cell_type": "code",
      "source": [
        "# Split the Dataset into Training and Testing\n",
        "x_train , x_test , y_train , y_test = train_test_split(X , Y , test_size = 0.10 , random_state = 42)\n",
        "\n",
        "# Display the Lenght of the Training/Testing Data\n",
        "print(f\"The Lenght of the X Train is : {len(x_train)}\")\n",
        "print(f\"The Lenght of the Y Train is : {len(y_train)}\")\n",
        "print(f\"The Lenght of the X Test  is : {len(x_test)}\")\n",
        "print(f\"The Lenght of the Y Test  is : {len(y_test)}\")"
      ],
      "metadata": {
        "colab": {
          "base_uri": "https://localhost:8080/"
        },
        "id": "hUEtEcVda1Rr",
        "outputId": "87884588-4574-414b-9f4d-d2c99b8ce348"
      },
      "execution_count": null,
      "outputs": [
        {
          "output_type": "stream",
          "name": "stdout",
          "text": [
            "The Lenght of the X Train is : 45\n",
            "The Lenght of the Y Train is : 45\n",
            "The Lenght of the X Test  is : 5\n",
            "The Lenght of the Y Test  is : 5\n"
          ]
        }
      ]
    },
    {
      "cell_type": "code",
      "source": [
        "# Define the Function that Visualization the Result\n",
        "def plot_data(xtrain = x_train , ytrain = y_train , xtest = x_test , ytest = y_test , prediction = None):\n",
        "  # Display the Training Data\n",
        "  plt.scatter(xtrain , ytrain , c = \"b\" , s = 4 , label = \"Training Dataset\")\n",
        "  # Display the Testing Data\n",
        "  plt.scatter(xtest  , ytest  , c = \"g\" , s = 4 , label = \"Testing Dataset\")\n",
        "  # Display the Prediction Data\n",
        "  if prediction is not None:\n",
        "    plt.scatter(xtest , prediction , c = \"r\" , s = 4 , label = \"Prediction Dataset\")\n",
        "  \n",
        "  plt.legend(prop = {\"size\" : 8})"
      ],
      "metadata": {
        "id": "edohfxmKa3g3"
      },
      "execution_count": null,
      "outputs": []
    },
    {
      "cell_type": "code",
      "source": [
        "# Visualization the Training and Testing Dataset\n",
        "plot_data()"
      ],
      "metadata": {
        "colab": {
          "base_uri": "https://localhost:8080/",
          "height": 430
        },
        "id": "Hq0mshC9a5K0",
        "outputId": "0c907ed4-f4be-4732-d7ad-581bd9c8b062"
      },
      "execution_count": null,
      "outputs": [
        {
          "output_type": "display_data",
          "data": {
            "text/plain": [
              "<Figure size 640x480 with 1 Axes>"
            ],
            "image/png": "[encoded data removed]"
          },
          "metadata": {}
        }
      ]
    },
    {
      "cell_type": "markdown",
      "source": [
        "**Create the Linear Regression Model with Pytorch Module V1**"
      ],
      "metadata": {
        "id": "VXtoKmIsa9Vr"
      }
    },
    {
      "cell_type": "code",
      "source": [
        "# Create the Class of the Linear Regression Model\n",
        "class LinearRegressionModel(nn.Module):\n",
        "  def __init__(self):\n",
        "    super().__init__()\n",
        "\n",
        "    # Define/Instialization the Weights and Bias\n",
        "    self.Weights = nn.Parameter(torch.randn(1,\n",
        "                                           requires_grad = True,\n",
        "                                           dtype = torch.float))\n",
        "    self.Bias    = nn.Parameter(torch.randn(1,\n",
        "                                            requires_grad = True,\n",
        "                                            dtype = torch.float))\n",
        "    \n",
        "  # Define the Forward Propagation\n",
        "  def forward(self , x: torch.Tensor):\n",
        "    # Define the Linear Regression Equation\n",
        "    return self.Bias + self.Weights * x"
      ],
      "metadata": {
        "id": "Ix2GGAeLa6zi"
      },
      "execution_count": null,
      "outputs": []
    },
    {
      "cell_type": "code",
      "source": [
        "# Set the Manual Seed\n",
        "torch.manual_seed(42)\n",
        "\n",
        "# Create the Object of the LinearRegressionModel\n",
        "model_0 = LinearRegressionModel()\n",
        "\n",
        "# Display the Parameters of the Linear Regression Model\n",
        "print(list(model_0.parameters()) , end = \"\\n\\n\")\n",
        "\n",
        "# Display the Parameters of the Linear Regression Model in Dictionary format\n",
        "print(model_0.state_dict())"
      ],
      "metadata": {
        "colab": {
          "base_uri": "https://localhost:8080/"
        },
        "id": "3mHMRLsEbA5U",
        "outputId": "202348b4-c0c6-44a2-e8d3-213507e927f8"
      },
      "execution_count": null,
      "outputs": [
        {
          "output_type": "stream",
          "name": "stdout",
          "text": [
            "[Parameter containing:\n",
            "tensor([0.3367], requires_grad=True), Parameter containing:\n",
            "tensor([0.1288], requires_grad=True)]\n",
            "\n",
            "OrderedDict([('Weights', tensor([0.3367])), ('Bias', tensor([0.1288]))])\n"
          ]
        }
      ]
    },
    {
      "cell_type": "code",
      "source": [
        "# Predict the Result with Linear Regression Model\n",
        "model_0.eval()\n",
        "\n",
        "with torch.inference_mode():\n",
        "  y_pred = model_0(x_test)"
      ],
      "metadata": {
        "id": "apvWGq2EbEo9"
      },
      "execution_count": null,
      "outputs": []
    },
    {
      "cell_type": "code",
      "source": [
        "# Visualization the Training & Testing & Predicted Data\n",
        "plot_data(prediction = y_pred)                            # This Model Version not perform Well"
      ],
      "metadata": {
        "colab": {
          "base_uri": "https://localhost:8080/",
          "height": 430
        },
        "id": "cMGivqD2bGuV",
        "outputId": "3287eae8-d4c2-4e93-9913-360964ef699a"
      },
      "execution_count": null,
      "outputs": [
        {
          "output_type": "display_data",
          "data": {
            "text/plain": [
              "<Figure size 640x480 with 1 Axes>"
            ],
            "image/png": "[encoded data removed]"
          },
          "metadata": {}
        }
      ]
    },
    {
      "cell_type": "markdown",
      "source": [
        "**Create the Linear Regression Model with Pytorch Module V2**"
      ],
      "metadata": {
        "id": "DY3-AipCbOgn"
      }
    },
    {
      "cell_type": "code",
      "source": [
        "# Create the Class of the Linear Regression Model\n",
        "class LinearRegressionModel(nn.Module):\n",
        "  def __init__(self):\n",
        "    super().__init__()\n",
        "\n",
        "    # Define/Instialization the Weights and Bias\n",
        "    self.Weights = nn.Parameter(torch.randn(1,\n",
        "                                           requires_grad = True,\n",
        "                                           dtype = torch.float))\n",
        "    self.Bias    = nn.Parameter(torch.randn(1,\n",
        "                                            requires_grad = True,\n",
        "                                            dtype = torch.float))\n",
        "    \n",
        "  # Define the Forward Propagation\n",
        "  def forward(self , x: torch.Tensor):\n",
        "    # Define the Linear Regression Equation\n",
        "    return self.Bias + self.Weights * x"
      ],
      "metadata": {
        "id": "jfY6C2LKbIiq"
      },
      "execution_count": null,
      "outputs": []
    },
    {
      "cell_type": "code",
      "source": [
        "# Set the Manual Seed\n",
        "torch.manual_seed(42)\n",
        "\n",
        "# Create the Object of the LinearRegressionModel\n",
        "model_1 = LinearRegressionModel()\n",
        "\n",
        "# Display the Parameters of the Linear Regression Model\n",
        "print(list(model_1.parameters()) , end = \"\\n\\n\")\n",
        "\n",
        "# Display the Parameters of the Linear Regression Model in Dictionary format\n",
        "print(model_1.state_dict())"
      ],
      "metadata": {
        "colab": {
          "base_uri": "https://localhost:8080/"
        },
        "id": "1Yhkk4E5bUlf",
        "outputId": "c17f1ec1-8bdc-43bd-9320-d9132b08324b"
      },
      "execution_count": null,
      "outputs": [
        {
          "output_type": "stream",
          "name": "stdout",
          "text": [
            "[Parameter containing:\n",
            "tensor([0.3367], requires_grad=True), Parameter containing:\n",
            "tensor([0.1288], requires_grad=True)]\n",
            "\n",
            "OrderedDict([('Weights', tensor([0.3367])), ('Bias', tensor([0.1288]))])\n"
          ]
        }
      ]
    },
    {
      "cell_type": "code",
      "source": [
        "# Setup the Loss Function\n",
        "loss = nn.L1Loss()\n",
        "\n",
        "# Setup the Optimizer Function\n",
        "optimizer = torch.optim.SGD(params = model_1.parameters() , lr = 0.01)"
      ],
      "metadata": {
        "id": "HoI8bENKbilV"
      },
      "execution_count": null,
      "outputs": []
    },
    {
      "cell_type": "code",
      "source": [
        "# Training and Testing Loop\n",
        "epochs = 200\n",
        "for epoch in range(epochs+1):\n",
        "\n",
        "  # 1. Train the Model\n",
        "  model_1.train()\n",
        "\n",
        "  # 2. Predict the Result\n",
        "  trainPredict = model_1(x_train)\n",
        "\n",
        "  # 3. Calculate the Loss of Training Prediction Data\n",
        "  lossTrain = loss(trainPredict , y_train)\n",
        "\n",
        "  # 4. Optimizer zero_grad\n",
        "  optimizer.zero_grad()\n",
        "\n",
        "  # 5. Perform the Backward Propagation\n",
        "  lossTrain.backward()\n",
        "\n",
        "  # 6. Apply the Optimizer\n",
        "  optimizer.step()\n",
        "\n",
        "  model_1.eval() # of the all calculation that not usefull to evaluate the Model/Predict the Result\n",
        "  with torch.inference_mode():\n",
        "    # Predict the Result\n",
        "    testPredict = model_1(x_test)\n",
        "\n",
        "    # Calculate the Loss of Testing Prediction Data\n",
        "    lossTest = loss(testPredict , y_test)\n",
        "\n",
        "    if epoch % 10 == 0:\n",
        "      print(f\"Epochs : {epoch} | Train Loss : {lossTrain} | Test Loss : {lossTest}\")"
      ],
      "metadata": {
        "colab": {
          "base_uri": "https://localhost:8080/"
        },
        "id": "Hiten292cXiU",
        "outputId": "a94b7967-8c73-40ec-eac2-ada8dfe737bc"
      },
      "execution_count": null,
      "outputs": [
        {
          "output_type": "stream",
          "name": "stdout",
          "text": [
            "Epochs : 0 | Train Loss : 0.016251487657427788 | Test Loss : 0.014452815055847168\n",
            "Epochs : 10 | Train Loss : 0.011218667030334473 | Test Loss : 0.009786260314285755\n",
            "Epochs : 20 | Train Loss : 0.006185843609273434 | Test Loss : 0.005119681358337402\n",
            "Epochs : 30 | Train Loss : 0.003361522452905774 | Test Loss : 0.009737825021147728\n",
            "Epochs : 40 | Train Loss : 0.003361522452905774 | Test Loss : 0.009737825021147728\n",
            "Epochs : 50 | Train Loss : 0.003361522452905774 | Test Loss : 0.009737825021147728\n",
            "Epochs : 60 | Train Loss : 0.003361522452905774 | Test Loss : 0.009737825021147728\n",
            "Epochs : 70 | Train Loss : 0.003361522452905774 | Test Loss : 0.009737825021147728\n",
            "Epochs : 80 | Train Loss : 0.003361522452905774 | Test Loss : 0.009737825021147728\n",
            "Epochs : 90 | Train Loss : 0.003361522452905774 | Test Loss : 0.009737825021147728\n",
            "Epochs : 100 | Train Loss : 0.003361522452905774 | Test Loss : 0.009737825021147728\n",
            "Epochs : 110 | Train Loss : 0.003361522452905774 | Test Loss : 0.009737825021147728\n",
            "Epochs : 120 | Train Loss : 0.003361522452905774 | Test Loss : 0.009737825021147728\n",
            "Epochs : 130 | Train Loss : 0.003361522452905774 | Test Loss : 0.009737825021147728\n",
            "Epochs : 140 | Train Loss : 0.003361522452905774 | Test Loss : 0.009737825021147728\n",
            "Epochs : 150 | Train Loss : 0.003361522452905774 | Test Loss : 0.009737825021147728\n",
            "Epochs : 160 | Train Loss : 0.003361522452905774 | Test Loss : 0.009737825021147728\n",
            "Epochs : 170 | Train Loss : 0.003361522452905774 | Test Loss : 0.009737825021147728\n",
            "Epochs : 180 | Train Loss : 0.003361522452905774 | Test Loss : 0.009737825021147728\n",
            "Epochs : 190 | Train Loss : 0.003361522452905774 | Test Loss : 0.009737825021147728\n",
            "Epochs : 200 | Train Loss : 0.003361522452905774 | Test Loss : 0.009737825021147728\n"
          ]
        }
      ]
    },
    {
      "cell_type": "code",
      "source": [
        "# Predict the Result with Linear Regression Model\n",
        "model_1.eval()\n",
        "\n",
        "with torch.inference_mode():\n",
        "  y_pred = model_1(x_test)"
      ],
      "metadata": {
        "id": "C839nsx_baYy"
      },
      "execution_count": null,
      "outputs": []
    },
    {
      "cell_type": "code",
      "source": [
        "# Visualization the Training & Testing & Predicted Data\n",
        "plot_data(prediction = y_pred)                       "
      ],
      "metadata": {
        "colab": {
          "base_uri": "https://localhost:8080/",
          "height": 430
        },
        "id": "KZZS1epIbd8c",
        "outputId": "5449bda3-886d-4bee-976f-1755b93fe254"
      },
      "execution_count": null,
      "outputs": [
        {
          "output_type": "display_data",
          "data": {
            "text/plain": [
              "<Figure size 640x480 with 1 Axes>"
            ],
            "image/png": "[encoded data removed]"
          },
          "metadata": {}
        }
      ]
    },
    {
      "cell_type": "code",
      "source": [],
      "metadata": {
        "id": "r8rw_jF2bhOt"
      },
      "execution_count": null,
      "outputs": []
    }
  ]
}